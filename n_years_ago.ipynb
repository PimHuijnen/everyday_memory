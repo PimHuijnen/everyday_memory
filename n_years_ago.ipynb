{
 "cells": [
  {
   "cell_type": "code",
   "execution_count": null,
   "id": "665fd78a",
   "metadata": {},
   "outputs": [],
   "source": [
    "import pandas as pd\n",
    "import glob\n",
    "import os\n",
    "import matplotlib.pyplot as plt"
   ]
  },
  {
   "cell_type": "code",
   "execution_count": null,
   "id": "941869c5",
   "metadata": {},
   "outputs": [],
   "source": [
    "wd = os.getcwd()\n",
    "path = wd + \"/n_years_ago/\""
   ]
  },
  {
   "cell_type": "code",
   "execution_count": null,
   "id": "e504c90f",
   "metadata": {},
   "outputs": [],
   "source": [
    "numbers = {1:'een', \n",
    "           2:'twee', \n",
    "           3:'drie', \n",
    "           4:'vier', \n",
    "           5:'vijf', \n",
    "           6:'zes', \n",
    "           7:'zeven', \n",
    "           8:'acht', \n",
    "           9:'negen', \n",
    "           10:'tien', \n",
    "           11:'elf', \n",
    "           12:'twaalf', \n",
    "           13:'dertien', \n",
    "           14:'veertien', \n",
    "           15:'vijftien', \n",
    "           16:'zestien', \n",
    "           17:'zeventien', \n",
    "           18:'achttien', \n",
    "           19:'negentien', \n",
    "           20:'twintig', \n",
    "           30:'dertig', \n",
    "           40:'veertig', \n",
    "           50:'vijftig', \n",
    "           60:'zestig', \n",
    "           70:'zeventig', \n",
    "           80:'tachtig', \n",
    "           90:'negentig', \n",
    "           100:'honderd', \n",
    "           110:'honderdtien', \n",
    "           120:'honderdtwintig', \n",
    "           130:'honderddertig', \n",
    "           140:'honderdveertig', \n",
    "           150:'honderdvijftig', \n",
    "           160:'honderdzestig', \n",
    "           170:'honderdzeventig', \n",
    "           180:'honderdtachtig', \n",
    "           190:'honderdnegentig', \n",
    "           200:'tweehonderd'}"
   ]
  },
  {
   "cell_type": "code",
   "execution_count": null,
   "id": "e113ba6b",
   "metadata": {},
   "outputs": [],
   "source": [
    "papers_abb = {'Leeuwarder Courant': 'leeuwcour', \n",
    "              'Limburgs Dagblad': 'limdag', \n",
    "              'Het Parool': 'parool', \n",
    "              'De Telegraaf': 'telegraaf',\n",
    "              'De Volkskrant': 'volkskrant'}"
   ]
  },
  {
   "cell_type": "code",
   "execution_count": null,
   "id": "afbb67ee",
   "metadata": {},
   "outputs": [],
   "source": [
    "def word_to_number(getal):\n",
    "    for number, word in numbers.items():\n",
    "        if getal == number:\n",
    "            number_word = word\n",
    "    return number_word\n",
    "\n",
    "def paper_abbreviation(newspaper):\n",
    "    for paper_name, paper_abbreviation in papers_abb.items():\n",
    "        if newspaper == paper_name:\n",
    "            abb = paper_abbreviation\n",
    "    return abb"
   ]
  },
  {
   "cell_type": "code",
   "execution_count": null,
   "id": "924725db",
   "metadata": {},
   "outputs": [],
   "source": [
    "# Put a '#' in front of a paper to deselect it\n",
    "\n",
    "papers = [\n",
    "#    'Leeuwarder Courant',\n",
    "#    'Limburgs Dagblad',\n",
    "#    'Het Parool',\n",
    "    'De Telegraaf',\n",
    "    'De Volkskrant',\n",
    "]"
   ]
  },
  {
   "cell_type": "code",
   "execution_count": null,
   "id": "6bbbf69a",
   "metadata": {},
   "outputs": [],
   "source": [
    "# Add years as numbers (without '')\n",
    "\n",
    "years_ago = [1, 4, 10]"
   ]
  },
  {
   "cell_type": "code",
   "execution_count": null,
   "id": "e528e10f",
   "metadata": {},
   "outputs": [],
   "source": [
    "# Set range of years to plot\n",
    "\n",
    "start_year = 1900\n",
    "end_year = 1990"
   ]
  },
  {
   "cell_type": "code",
   "execution_count": null,
   "id": "339d4076",
   "metadata": {},
   "outputs": [],
   "source": [
    "# Plot!\n",
    "\n",
    "plt.style.use(\"ggplot\")\n",
    "fig, ax = plt.subplots(figsize=(15, 10))\n",
    "\n",
    "for paper in papers:\n",
    "    if paper == 'Leeuwarder Courant' or paper == 'Limburgs Dagblad':\n",
    "        df = pd.read_csv(path + paper_abbreviation(paper) + '_n_years_ago_count.csv',\n",
    "                     sep=',', index_col=False)\n",
    "    else:\n",
    "        df = pd.read_csv(path + paper_abbreviation(paper) + '_n_years_ago_count.csv',\n",
    "                     sep='\\t', index_col=False)\n",
    "\n",
    "    for year in years_ago:\n",
    "    \n",
    "        # Set data to plot\n",
    "        plt.plot(df.date, df[word_to_number(year) + '_jaar_geleden_permill'], label = '%s jaar geleden in %s' %(word_to_number(year), paper))\n",
    "\n",
    "        # Set xticks\n",
    "        ax.set_xticks(range(1894, 1990, 2))\n",
    "        plt.xticks(rotation=45)\n",
    "        \n",
    "        # Set x-axis range\n",
    "        ax.set_xlim([start_year, end_year])\n",
    "\n",
    "# Set labels and legend\n",
    "plt.title(\"Overall frequency of 'year ago' bigrams in Dutch newspapers (sample size per year = 10,000 documents; per million words)\", size=14)\n",
    "plt.xlabel(\"Year\", size=14)\n",
    "plt.ylabel(\"Per million words\", size=14)\n",
    "plt.legend()\n",
    "\n",
    "plt.show()"
   ]
  },
  {
   "cell_type": "code",
   "execution_count": null,
   "id": "77485f7b",
   "metadata": {},
   "outputs": [],
   "source": []
  }
 ],
 "metadata": {
  "kernelspec": {
   "display_name": "Python 3 (ipykernel)",
   "language": "python",
   "name": "python3"
  },
  "language_info": {
   "codemirror_mode": {
    "name": "ipython",
    "version": 3
   },
   "file_extension": ".py",
   "mimetype": "text/x-python",
   "name": "python",
   "nbconvert_exporter": "python",
   "pygments_lexer": "ipython3",
   "version": "3.11.3"
  }
 },
 "nbformat": 4,
 "nbformat_minor": 5
}
