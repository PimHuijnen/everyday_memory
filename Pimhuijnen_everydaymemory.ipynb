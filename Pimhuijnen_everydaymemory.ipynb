{
 "cells": [
  {
   "cell_type": "markdown",
   "id": "fcce6787",
   "metadata": {},
   "source": [
    "# Everyday memory #\n",
    "## A computational analysis of changing relations between past and present in Dutch newspapers in the twentieth Century ##"
   ]
  },
  {
   "cell_type": "markdown",
   "id": "182daad2",
   "metadata": {},
   "source": [
    "*[Pim Huijnen](https://www.uu.nl/staff/PHuijnen) – Utrecht University*"
   ]
  },
  {
   "cell_type": "markdown",
   "id": "603b2852",
   "metadata": {},
   "source": [
    "## Abstract ##\n",
    "*This article proposes a data-driven approach to memory culture by quantitively studying the phrase ‘n years ago’ in a set of Dutch newspapers throughout the larger part of the twentieth century. In a pipeline consisting of three parts, it looks at 1) the most frequently used time frame (in years and decades) that newspapers use to look back at ‘n years ago’, 2) trends in the use of the most common variants of this phrase through time, and 3) the actual years that are referred to by means of this phrase. By doing so, this article substantiates Aleida Assmann’s claim of an increasing entanglement of past and present after World War II, while showing that this fundamentally looks like what is here called ‘everyday memory culture’. Rather than the establishment of a canon of landmark years that newspapers increasingly come back to (for example 1929, 1940, or 1945), the past that Dutch newspapers invoke on a daily basis is mostly informed by recent and recurrent events in culture, sports and politics.*"
   ]
  },
  {
   "cell_type": "markdown",
   "id": "5c05445c",
   "metadata": {},
   "source": [
    "## Contents ##\n",
    "\n",
    "0. [Some code](#0.-Some-code)\n",
    "1. [Introduction](#1.-Introduction)\n",
    "2. [Questions and Method](#2.-Questions-and-Method)\n",
    "3. [Analysis and Results](#3.-Analysis-and-Results)\n",
    "    1. [3.1 Extracting most common ‘n years ago’ trigrams](#3.1-Extracting-most-common-‘n-years-ago’-trigrams)\n",
    "    2. [3.2 Finding patterns in the use of ‘n years ago’ over time](#3.2-Finding-patterns-in-the-use-of-‘n-years-ago’-over-time)\n",
    "    3. [3.3 Checking out the data yourself](#3.3-Checking-out-the-data-yourself)\n",
    "    4. [3.4 Tracing back ‘n years ago’ to actual years](#3.4-Tracing-back-‘n-years-ago’-to-actual-years)\n",
    "\n",
    "\n",
    "4. [Conclusion](#4.-Conclusion)\n",
    "5. [References](#5.-References)"
   ]
  },
  {
   "cell_type": "markdown",
   "id": "886e7457",
   "metadata": {},
   "source": [
    "## 0. Some code ##\n",
    "\n",
    "Please run (once)"
   ]
  },
  {
   "cell_type": "code",
   "execution_count": null,
   "id": "665fd78a",
   "metadata": {},
   "outputs": [],
   "source": [
    "import pandas as pd\n",
    "import glob\n",
    "import os\n",
    "import matplotlib.pyplot as plt"
   ]
  },
  {
   "cell_type": "code",
   "execution_count": null,
   "id": "941869c5",
   "metadata": {},
   "outputs": [],
   "source": [
    "wd = os.getcwd()\n",
    "path = wd + \"/n_years_ago/\""
   ]
  },
  {
   "cell_type": "code",
   "execution_count": null,
   "id": "ac8a5d80",
   "metadata": {},
   "outputs": [],
   "source": [
    "numbers = {1:'een', \n",
    "           2:'twee', \n",
    "           3:'drie', \n",
    "           4:'vier', \n",
    "           5:'vijf', \n",
    "           6:'zes', \n",
    "           7:'zeven', \n",
    "           8:'acht', \n",
    "           9:'negen', \n",
    "           10:'tien', \n",
    "           11:'elf', \n",
    "           12:'twaalf', \n",
    "           13:'dertien', \n",
    "           14:'veertien', \n",
    "           15:'vijftien', \n",
    "           16:'zestien', \n",
    "           17:'zeventien', \n",
    "           18:'achttien', \n",
    "           19:'negentien', \n",
    "           20:'twintig', \n",
    "           30:'dertig', \n",
    "           40:'veertig', \n",
    "           50:'vijftig', \n",
    "           60:'zestig', \n",
    "           70:'zeventig', \n",
    "           80:'tachtig', \n",
    "           90:'negentig', \n",
    "           100:'honderd', \n",
    "           110:'honderdtien', \n",
    "           120:'honderdtwintig', \n",
    "           130:'honderddertig', \n",
    "           140:'honderdveertig', \n",
    "           150:'honderdvijftig', \n",
    "           160:'honderdzestig', \n",
    "           170:'honderdzeventig', \n",
    "           180:'honderdtachtig', \n",
    "           190:'honderdnegentig', \n",
    "           200:'tweehonderd'}"
   ]
  },
  {
   "cell_type": "code",
   "execution_count": null,
   "id": "79d230fb",
   "metadata": {},
   "outputs": [],
   "source": [
    "papers_abb = {'Leeuwarder Courant': 'leeuwcour', \n",
    "              'Limburgs Dagblad': 'limdag', \n",
    "              'Het Parool': 'parool', \n",
    "              'De Telegraaf': 'telegraaf',\n",
    "              'De Volkskrant': 'volkskrant'}"
   ]
  },
  {
   "cell_type": "code",
   "execution_count": null,
   "id": "3d5f3f71",
   "metadata": {},
   "outputs": [],
   "source": [
    "def word_to_number(getal):\n",
    "    for number, word in numbers.items():\n",
    "        if getal == number:\n",
    "            number_word = word\n",
    "    return number_word\n",
    "\n",
    "def paper_abbreviation(newspaper):\n",
    "    for paper_name, paper_abbreviation in papers_abb.items():\n",
    "        if newspaper == paper_name:\n",
    "            abb = paper_abbreviation\n",
    "    return abb"
   ]
  },
  {
   "cell_type": "markdown",
   "id": "e01d0b4a",
   "metadata": {},
   "source": [
    "## 1. Introduction ##\n",
    "Memory is hot. Ever since the linguistic turn in the Humanities has banned past realities beyond the historian’s grasp, historical scholarship has moved towards those things relating to history that remain tangible: the stories about the past that we tell ourselves, the rituals and traditions that connect us to our ancestors – in short, memory culture. Journals, educational programs, and a steady stream of books testify of this. \n",
    "Strongly related to the study of memory is the cultural exploration of time. Most theorists of memory culture acknowledge that the practice of commemorating cannot be studied isolated from time perception. After all, collective memory can be regarded as nothing less than “the sociocultural process of producing time in society” (Hristova et.al. 2020, p. 778). François Hartog’s theory of temporal orders has become particularly influential. Hartog contends that we have entered a time regime of the present since the 1980s, following the demise of the project of modernity, which was characterized by a singular focus on the future (Hartog 2015). He explains the memory boom as a replacement of the past with “its fictitious reconstruction” in the all-encompassing present (Assmann 2020, p. 183).\n",
    "\n",
    "Digitization and datafication are providing promising new vistas for both the study of memory and of time. The more social media and other born-digital data have a past of their own, the more these data, for example, are used to study aspects of memory culture in a data-driven manner (see, for example, Au Yeung and Jatowt 2011, Keegan and Brubaker 2015, Graus et.al. 2018, West et.al. 2021.). Similarly, mass digitization allows us to study time experience in a data-driven manner – not departing from specific cases, but from manifestations of time experience in (written) texts per se (Eijnatten and Huijnen 2021).\n",
    "\n",
    "This article proposes one such way. It aims to question the relation between the present and the past in twentieth century newspapers by analysing trends in phrases of the format ‘n years ago’. Unlike explicit references to years, events or persons in the past, ‘n years ago’ intricately ties the past to the present. The phrase presents the past—and keeps it present—because it has meaning for the present. The past of ‘ten years ago’, after all, is only that now, not next year. This notion of ‘useful past’ or ‘present past’ (Paul 2015, p. 25-27) forms part of Aleida Assmann’s critique of Hartog’s theory of temporal orders. While Assmann agrees with Hartog’s observation that we have moved away from a temporal focus on the future to a fixation on the present, she goes against Hartog’s assertion that an increasingly shorter present is all we are left with (Assmann 2020, p. 139). Assmann, instead, claims that we, actually, increasingly extend our present both into the past and into the future:\n",
    "\n",
    "> we precisely never limit ourselves to the ephemeral transitional stage of the present, but instead make use of both the past and the future to extend and stabilize such fragile and precarious things as our realms of experience and horizons of expectation.  (Assmann 195)\n",
    "\n",
    "Assmann puts forward the notion of cultural memory to exchange the focus on temporal ruptures with a model that “emphasizes the ineluctable entanglement of these modalities” (Assmann 2020, p. 195-6). The use of ‘n years ago’ is a ubiquitous example in everyday speech of this entanglement. \n"
   ]
  },
  {
   "cell_type": "markdown",
   "id": "872cdb56",
   "metadata": {},
   "source": [
    "## 2. Questions and Method ##\n",
    "Computational methods can help us to substantiate these seemingly obvious claims and theories like Assmann’s and, more than that, to discover how the present and past are entangled. Moreover, they can enable us to make visible how cultural memory changes over time based on large quantities of relevant data. The relevancy of this lies in the fact that what we define as past or future are essentially cultural frameworks. Our experience of time is not natural or neutral, but follows, in Assmann’s words, ‘a very particular “politics of time”’ (Assmann 2020, p. 91). The past that is kept alive is telling for the image of themselves cultures, nations, or other groups aim to uphold. The questions that are at the center of this article, therefore, are how trends in references to present pasts relate to Hartog’s and Assmann’s philosophies of time experience, but also which past remains present (the far-away past? The near past? Which particular years?) and whether and how the past-that-is-kept-present changes over time.\n",
    "\n",
    "This article looks at the present past in newspapers, because of the central role these have played in memory culture throughout the twentieth century – following the famous phrase of newspapers as the ‘first rough draft of history’. Memory culture should be regarded a collective singular, not in the sense of the all-too vague notion of a ‘collective memory’ but, rather, as a reservoir of multiple practices and mentalities, in which newspapers played their own role. Just as today, daily newspapers in the past have not been neutral entities. In different times or simultaneously, they were political outlets, disseminators of trivialities and/or commercial products, targeting particular audiences and expressing distinct ideas  (Bingham 2012, p.141). As such, however, they both reproduced existing and spurred new knowledge, preoccupations, and interests – they ‘recorded history’ as well as ‘made history’ (Bingham 2012, p. 142). These are two sides of the same coin, difficult to entangle—just as it is often impossible to discern editorial agenda-setting from the purposeless reiteration of the unspoken assumptions that we call mentalities. Doing so is not the ambition of this paper. It suffices to know that newspapers are an interesting source to study memory culture either way.\n",
    "\n",
    "This article is based on research of the digitized versions of the most important nation-wide and regional newspapers the Dutch National Library holds and [has made available](https://www.delpher.nl/kranten). The results presented here are based on samples from four newspaper titles of 10,000 documents (articles and advertisements) per year: the national newspaper De Telegraaf (1893-1989), the national newspaper Het Parool (1940-1995, with a strong focus on Amsterdam), and the regional newspapers Leeuwarder Courant (1890-1989), Limburgsch Dagblad (1918-1989). These documents have been rid of duplicates, cleaned and with the help of Python’s `NLTK package`."
   ]
  },
  {
   "cell_type": "markdown",
   "id": "09598345",
   "metadata": {},
   "source": [
    "See [the GitHub repository accompanying this article](https://github.com/PimHuijnen/Looking_back_newspapers) for the code. Cleaning in this script is mostly restricted to the removal of punctuation and caps. Stop words are not removed to guarantee that the Dutch word for the English indefinite article ‘a’ (‘een’), which is part of any standard stop word list, remains part of the data. Similarly, the removal of numbers is no part of preprocessing to allow for phrases like ’10 years ago’ (even though Dutch linguistic convention formally does not allow for numbers in running text).\n",
    "\n",
    "A note on spelling: ‘n jaar geleden’ is and has been the standard phrase in Dutch to refer to the past with only slight variation: while the phrasing ‘n jaren geleden’ was more common before 1945, ‘n jaar geleden’ has been the default after. The analyses below have accounted for this spelling variation by taking the sum of the frequency of both phrases. Looking back a single year forms an exception: ‘one year ago’ (‘een jaar geleden’) has never been the standard phrase to refer to the previous year. Different variations of ‘last year’ – ‘afgelopen jaar’, ‘verleden jaar’ – have been just as common or, as in the case of ‘vorig(e) jaar’, a great deal more popular than ‘een jaar geleden’. Looking back to the previous year, for this reason, has been analysed separately, taking into account these variations."
   ]
  },
  {
   "cell_type": "markdown",
   "id": "f7e6068c",
   "metadata": {},
   "source": [
    "## 3. Analysis and Results ##\n",
    "Answering the research questions is done in three subsequent steps: first, extracting the years that are most frequently used in the phrase ‘n years ago’ in each of the newspapers; second, visualizing the trajectories of these years over time; third, adding together the dates these years refer to (i.e. 1970 if a 1972 article mentions ‘two years ago’ or a 1974 article mentions ‘four years ago) for all most frequent phrases of ‘n years ago’ and visualize them to see what years are actually most commonly remembered.\n",
    "\n",
    "The analysis is done with Python scripts in Jupyter Notebooks and operationalized as follows:\n",
    "\n",
    "### 3.1 Extracting most common ‘n years ago’ trigrams ###\n",
    "The first step is the extraction of a list of the most common trigrams ending with ‘year(s) ago’ from the cleaned and sampled dataset. This list is sorted by decade and by frequency to get an idea of the years that newspapers most often use in the phrase ‘n years ago’ throughout the twentieth century. This list is generated as raw frequency per year and per million trigrams (in [tables 1](#Table-1) and [2](#Table-2) by example of De Telegraaf) to get a feeling of the overall frequency of this type of phrase.\n",
    "\n",
    "The results of step 1 indicate that for each of the newspapers single digit years (one – nine) make up the most common phrases of ‘n years ago’, together with decades (ten, twenty, etc.) and centennials (one hundred). "
   ]
  },
  {
   "cell_type": "markdown",
   "id": "860f9636",
   "metadata": {},
   "source": [
    "#### Table 1 ####\n",
    "\n",
    "| Trigram | English translation | 1890 | 1900 | 1910 | 1920 | 1930 | 1940 | 1950 | 1960 | 1970 | 1980 |\n",
    "| --- | --- | --- | --- | --- | --- | --- | --- | --- | --- | --- | --- |\n",
    "| een jaar geleden\t| one year ago\t| 23 | 48 | 70 | 147 | 597 | 78 | 199 | 368 | 559 | 481 |\n",
    "| twee jaar geleden\t| two years ago\t| 20 | 25 | 41 | 53 | 206 | 33 | 157 | 423 | 868| 936 |\n",
    "| twintig jaar geleden | twenty years ago |\t15 | 6 | 9 | 39 | 90 | 25 | 42 | 63 | 127| 181 |\n",
    "| paar jaar geleden\t| few year ago\t| 13 | 15 | 16 | 25 | 42 | 20 | 34 | 133 | 288| 298 |\n",
    "| vier jaar geleden\t| four years ago | 9 | 2 | 8 | 20 | 68 | 8 | 42 | 139 | 339 | 357 |\n",
    "| drie jaar geleden\t| three years ago | 8| 15 | 16| 31| 97| 17 | 77 | 209 | 453 | 439 |\n",
    "| dertig jaar geleden | thirty years ago | 7 | 5 | 4 | 12 | 51 | 16 | 30 | 55 | 59 | 92 |\n",
    "| tien jaar geleden\t| ten years ago | 6 | 12 | 12 | 30 | 114 | 25 | 65 | 180 | 387 | 459 |\n",
    "| honderd jaar geleden | one hundred years ago\t| 5 | 6 | 11 | 19 | 57 | 15 | 23 | 54 | 63 | 59 |\n",
    "| acht jaar geleden\t| eight years ago\t| 5 | 3 | 3 | 10 | 25 | 5 | 13 | 56 | 100 | 107 |\n",
    "\n",
    "Most common trigrams ending in ‘year(s) ago’ with their English translation from a sample of 10,000 documents from the national newspaper _De Telegraaf_ per decade in raw frequency, 1890-1980. For the raw csv of _De Telegraaf_ and the other newspapers, see [the GitHub page for this article](https://github.com/PimHuijnen/Looking_back_newspapers).\n"
   ]
  },
  {
   "cell_type": "markdown",
   "id": "cbd600a1",
   "metadata": {},
   "source": [
    "#### Table 2 #### \n",
    "\n",
    "| Trigram | English translation | 1890 | 1900 | 1910 | 1920 | 1930 | 1940 | 1950 | 1960 | 1970 | 1980 |\n",
    "| --- | --- | --- | --- | --- | --- | --- | --- | --- | --- | --- | --- |\n",
    "| een jaar geleden | one year ago | 1,95 | 4,02 | 4,62 | 8,81 | 21,77 | 13,23 | 16,06 | 19,51 | 17,90 | 16,16 | \n",
    "| twee jaar geleden| two years ago | 1,70 | 2,10 | 2,70 | 3,18 | 7,51 | 5,60 | 12,67 | 22,43 | 27,79 | 31,44 |\n",
    "| twintig jaar geleden | twenty years ago | 1,27 | 0,50 | 0,59 | 2,34 | 3,28 | 4,24 | 3,39 | 3,34 | 4,07 | 6,08 |\n",
    "| paar jaar geleden | few year ago | 1,10 | 1,26 | 1,06 | 1,50 | 1,53 | 3,39 | 2,74 | 7,05 | 9,22 | 10,01 |\n",
    "| vier jaar geleden | four years ago | 0,76 | 0,17 | 0,53 | 1,20 | 2,48 | 1,36 | 3,39 | 7,37 | 10,85 | 11,99 |\n",
    "| drie jaar geleden | three years ago | 0,68 | 1,26 | 1,06 | 1,86 | 3,54 | 2,88 | 6,22 | 11,08 | 14,50 | 14,75 |\n",
    "| dertig jaar geleden | thirty years ago | 0,59 | 0,42 | 0,26 | 0,72 | 1,86 | 2,71 | 2,42 | 2,92 | 1,89 | 3,09 |\n",
    "| tien jaar geleden | ten years ago | 0,51 | 1,01 | 0,79 | 1,80 | 4,16 | 4,24 | 5,25 | 9,54 | 12,39 | 15,42 |\n",
    "| honderd jaar geleden | one hundred years ago | 0,42 | 0,50 | 0,73 | 1,14 | 2,08 | 2,54 | 1,86 | 2,86 | 2,02 | 1,98 |\n",
    "| acht jaar geleden| eight years ago | 0,42| 0,25 | 0,20 | 0,60| 0,91 | 0,85 | 1,05 | 2,97 | 3,20 | 3,59 |\n",
    "\n",
    "Most common trigrams ending in ‘year(s) ago’ with their English translation from a sample of 10,000 documents from the national newspaper _De Telegraaf_ per decade per million trigrams, 1890-1980.\n"
   ]
  },
  {
   "cell_type": "markdown",
   "id": "cc6ea104",
   "metadata": {},
   "source": [
    "The code below can be used to inspect the relative frequencies of the most common trigrams ending with 'years ago' in the five newspapers _per year_ (not per decade, as the above tables show).\n",
    "\n",
    "The code below opens the file for De Telegraaf. The file name can be altered to open the files for the other newspapers:\n",
    "\n",
    "| Title | File name |  Separator | \n",
    "| :- | :- | :- |\n",
    "| Leeuwarder Courant | `'leeuwcour_n_years_ago_count.csv'` | `sep=','` |\n",
    "| Limburgs Dagblad | `'limdag_n_years_ago_count.csv'` | `sep=','` |\n",
    "| Het Parool | `'parool_n_years_ago_count.csv'`| `sep='\\t'` |\n",
    "| De Telegraaf | `'telegraaf_n_years_ago_count.csv'`| `sep='\\t'` |\n",
    "| De Volkskrant | `'volkskrant_n_years_ago_count.csv'`| `sep='\\t'` | "
   ]
  },
  {
   "cell_type": "code",
   "execution_count": null,
   "id": "c7d899df",
   "metadata": {},
   "outputs": [],
   "source": [
    "df = pd.read_csv(path + 'telegraaf_n_years_ago_count.csv', sep='\\t', index_col=False)\n",
    "print(df.head())"
   ]
  },
  {
   "cell_type": "markdown",
   "id": "739c73f4",
   "metadata": {},
   "source": [
    "### 3.2 Finding patterns in the use of ‘n years ago’ over time ###\n",
    "Once it is established which of the variants of ‘n years ago’ are most common, these are plotted, relative to one another, over time. Figures 1-4 show the trajectories of the years from two to ten [(figure 1)](#Figure-1) and of all decades from ten to one hundred [(figure 2)](#Figure-2). These figures draw from the newspaper _De Telegraaf_, which is the most representative of the four titles in the sense that, in contrast with the regional newspapers, it has a national scope. The other newspapers, nevertheless, show similar trends that speak from the Telegraaf figures.\n",
    "\n",
    "The numbers in Figures 1-2 are generated relative to the total number of words per year to account for fluctuations in the corpus. [Figures 3-4](#Figure-3) show the same combination of years, normalized with the total number of ‘jaar geleden’ bigrams per year. While the first set tells us something about overall trends of the particular trigrams, the latter provides insights into the relative importance of particular instances of ‘jaar geleden’ within this entire subset."
   ]
  },
  {
   "cell_type": "markdown",
   "id": "e1a4c2b2",
   "metadata": {},
   "source": [
    "#### Figure 1 #### \n",
    "\n",
    "![Figure 1](jupyter_images/Fig_1.png)"
   ]
  },
  {
   "cell_type": "markdown",
   "id": "ecbbde81",
   "metadata": {},
   "source": [
    "#### Figure 2 #### \n",
    "\n",
    "![Figure 2](jupyter_images/Fig_2.png)"
   ]
  },
  {
   "cell_type": "markdown",
   "id": "d4543e92",
   "metadata": {},
   "source": [
    "#### Figure 3 #### \n",
    "\n",
    "![Figure 3](jupyter_images/Fig_3.png)"
   ]
  },
  {
   "cell_type": "markdown",
   "id": "a5f0dc8d",
   "metadata": {},
   "source": [
    "#### Figure 4 #### \n",
    "\n",
    "![Figure 4](jupyter_images/Fig_4.png)"
   ]
  },
  {
   "cell_type": "markdown",
   "id": "4e8f3187",
   "metadata": {},
   "source": [
    "As explained above, trends in looking back one year have been generated separately on the basis of the expressions ‘een jaar geleden’, ‘afgelopen jaar’, ‘verleden jaar’, and ‘vorig jaar’. To these, the pre-war spelling variant ‘afgeloopen jaar’ has been added, as well as ‘vorige jaar’, which is the spelling if preceded by the definite article ‘het’. [Figure 5](#Figure-5) demonstrates that between these variations ‘one year ago’ is a marginal expression to refer to the previous year. [Figure 6](#Figure-6) is a stacked bar chart of the same numbers, to give an overall impression of references to last year."
   ]
  },
  {
   "cell_type": "markdown",
   "id": "87410b52",
   "metadata": {},
   "source": [
    "#### Figure 5 #### \n",
    "\n",
    "![Figure 5](jupyter_images/Fig_5.png)"
   ]
  },
  {
   "cell_type": "markdown",
   "id": "5a333914",
   "metadata": {},
   "source": [
    "#### Figure 6 #### \n",
    "\n",
    "![Figure 6](jupyter_images/Fig_6.png)"
   ]
  },
  {
   "cell_type": "markdown",
   "id": "8ccbf1da",
   "metadata": {},
   "source": [
    "The most important trend in each of the newspapers is the fact that looking back in time by the use of the phrase ‘n years ago’ gained a new quality in the second half of the twentieth century. This is not to say newspaper did not refer to the past by use of this phrase before 1940. An upward trend is visible from 1900 or, for some of the papers, from 1920 onward. This is particularly true for references to the previous year, which are clearly present in the national newspaper Telegraaf throughout the period before WWII and outright boom during the 1930s. The newspaper does not show a similar peak in references to the previous year until 1970. However, the 1930 peak and the prewar trend in looking back one year are misleading when it comes to the topic of this study. References to the immediate past in _De Telegraaf_ before WWII are virtually exclusively production, trade, or share reports. Articles like [‘American petroleum production in 1929 is estimated 106,515,000 barrels higher than last year’](https://resolver.kb.nl/resolve?urn=ddd:110569675:mpeg21:a0340) and [‘Increased with last year’s balance the available returns amount to 267,797,319 francs’](https://resolver.kb.nl/resolve?urn=ddd:110562668:mpeg21:a0261) are ubiquitous. Tellingly, the other newspapers lack similar trends to those in De Telegraaf when it comes to references to the previous year. As regional newspapers they do not possess the information function for business and trade that De Telegraaf has.\n",
    "\n",
    "The use in references to the concrete past by way of ‘n years ago’ shows significant increases in all newspapers after WWII. This is true for all manifestations of this phrase: the general bigram for ‘year(s) ago’ (‘jaar geleden’) [(Figure 7)](#Figure-7), for the different variations of ‘last year’, as well as for multiple variations of ‘n years ago’. These variations mostly refer to the recent past. ‘Two years ago’ (‘twee jaar geleden’) becomes the most popular time frame of looking back towards the 1980s, in all of the newspapers generally followed by ten, one, three, and four years ago. These phrases are typically used to recall the recent past. ‘Pablo Neruda received the Nobel Prize for Literature two years ago’, _Het Parool_ writes in [an announcement for a commemoration for the Chilean poet](https://resolver.kb.nl/resolve?urn=ABCDDD:010838021:mpeg21:a0283), two weeks after his passing away.  _The Leeuwarder Courant_ remembers their readers of the fact that one of the leaders of the liberal party VVD was [‘spat out by his party two years ago’](https://resolver.kb.nl/resolve?urn=ddd:010566627:mpeg21:a0278). _De Telegraaf_ in a cycling report: [‘It was only two years ago that Lucien van Impe was forbidden to start in the race of Kortenhoef’.](https://resolver.kb.nl/resolve?urn=ddd:011199146:mpeg21:a0212)"
   ]
  },
  {
   "cell_type": "markdown",
   "id": "2d8ff44e",
   "metadata": {},
   "source": [
    "#### Figure 7 #### \n",
    "\n",
    "![Figure 7](jupyter_images/Fig_7.png)"
   ]
  },
  {
   "cell_type": "markdown",
   "id": "c29bb91e",
   "metadata": {},
   "source": [
    "‘Two years ago’ alone appears more than 35,000 times in the four studied newspapers. The reference was used in an enormously wide range of topics. However, the last quote from De Telegraaf above, does illustrate a typical context. With the use of this phrase and other variations of the phrase ‘n years ago’, Dutch newspapers became mediators of a form of memory culture than can be seen as ‘latent’ or ‘everyday’ in that it emphasizes recurring events rather than returning to a specific thing in the past. This is, particularly, true for the phrases ‘two years ago’ and ‘four years ago’ [(Figure 8)](#Figure-8). The spikes in the diagrams of these phrases are the result of references to recurring events in sports, politics, and culture on the international level (Olympics, European and World Championship soccer), but also on the national (parliamentary elections), regional or local levels. Particularly, the high frequency in the cultural context is striking, where it is used to remind readers of previous concerts, theater plays, movies or music album. The Beatles’ new album marked a return to the [‘sounds of four years ago’](https://resolver.kb.nl/resolve?urn=ABCDDD:010838339:mpeg21:a0388), the announcement in Het Parool of the Fab Four’s new lp in 1969, for example, mentioned. \n",
    "\n",
    "The newspapers’ dual role of both ‘recording history’ and ‘making history’ in this manner had its heyday after the Second World War. All newspapers show a steady rise in looking back to the recent past during the postwar decades, although the timing differs from title to title. As indicated above, the practice was not a new one altogether, but their continuing prevalence was. A quick keyword search on the Delpher platform reveals that De Telegraaf used the phrase ‘four years ago’ (as ‘vier jaren geleden’ and ‘vier jaar geleden’) during the first fifty years since its establishment in 1893 a little more than 900 times, typically during specific years like 1918 (looking back at the start of WWI) and 1932 (looking back at the single Olympics that were hosted in the Netherlands in 1928). The same newspapers used the phrase during the fifty years since 1945 five times as much: more than 4,600 times. Not so much the spikes in the frequency trends are signs of a break with the prewar period, but, rather, the continuous use of the term in years without elections or major sport events.\n",
    "\n",
    "Looking back a single year is no exception to the postwar prevalence of references to the past in daily newspapers. We have seen that the phrase was reserved for financial and trade news until the 1940s, but this changes from the 1950s onward. The first postwar peak in the use of ‘a year ago’ in De Telegraaf, for example, is in 1964, which is based on the use of the phrase within memory culture, which hardly existed in the 1930s. Emblematic is an article commemorating John F. Kennedy’s death a year earlier: ‘Tomorrow, it will be a year ago that the world was thoroughly and deeply shocked by president Kennedy’s murder. Despite this short period of time, John Kennedy has already gone down in history.’ The short article is typically titled [‘A year ago’](https://resolver.kb.nl/resolve?urn=ddd:110588718:mpeg21:a0385). "
   ]
  },
  {
   "cell_type": "markdown",
   "id": "a96448a0",
   "metadata": {},
   "source": [
    "#### Figure 8 #### \n",
    "\n",
    "![Figure 8](jupyter_images/Fig_8.png)"
   ]
  },
  {
   "cell_type": "markdown",
   "id": "fd2c16e9",
   "metadata": {},
   "source": [
    "### 3.3 Checking out the data yourself ###\n",
    "\n",
    "The following code allows you to play around with the data yourself. It generates line charts for the five newspapers used in this study. Users can set three parameters:\n",
    "\n",
    "1. The newspaper titles to compare\n",
    "    + Newspapers can be selected by checking or unchecking the appropriate title from the `papers` list\n",
    "2. The years to compare\n",
    "    + Years can be selected in the `years_ago` list. They have to be added as numbers (integers)\n",
    "    + The years that can be selected are all years between 1 and 20 and all decades between 20 and 200 (as in the dictionary `numbers`)\n",
    "3. The time period to plot\n",
    "    + The available data differs for the different newspapers. _De Volkskrant_, for example, did not exist until the Second World War. All data, however, lies between 1890 and 1990. Any period within this time frame can be selected.\n",
    "    \n",
    "The Code snippets below have to run each time they are changed anew."
   ]
  },
  {
   "cell_type": "code",
   "execution_count": null,
   "id": "bd3960c7",
   "metadata": {},
   "outputs": [],
   "source": [
    "# 1. Newspaper selection. Put a '#' in front of a paper to deselect it\n",
    "\n",
    "papers = [\n",
    "    'Leeuwarder Courant',\n",
    "    'Limburgs Dagblad',\n",
    "    'Het Parool',\n",
    "    'De Telegraaf',\n",
    "    'De Volkskrant',\n",
    "]"
   ]
  },
  {
   "cell_type": "code",
   "execution_count": null,
   "id": "a1e00050",
   "metadata": {},
   "outputs": [],
   "source": [
    "# 2. Years selection. Add years as numbers (without '')\n",
    "\n",
    "years_ago = [1, 4]"
   ]
  },
  {
   "cell_type": "code",
   "execution_count": null,
   "id": "30912345",
   "metadata": {},
   "outputs": [],
   "source": [
    "# 3. Time frame selection. Set range of years to plot\n",
    "\n",
    "start_year = 1890\n",
    "end_year = 1990"
   ]
  },
  {
   "cell_type": "code",
   "execution_count": null,
   "id": "8b88abc2",
   "metadata": {},
   "outputs": [],
   "source": [
    "# Plot!\n",
    "\n",
    "plt.style.use(\"ggplot\")\n",
    "fig, ax = plt.subplots(figsize=(15, 10))\n",
    "\n",
    "for paper in papers:\n",
    "    if paper == 'Leeuwarder Courant' or paper == 'Limburgs Dagblad':\n",
    "        df = pd.read_csv(path + paper_abbreviation(paper) + '_n_years_ago_count.csv',\n",
    "                     sep=',', index_col=False)\n",
    "    else:\n",
    "        df = pd.read_csv(path + paper_abbreviation(paper) + '_n_years_ago_count.csv',\n",
    "                     sep='\\t', index_col=False)\n",
    "\n",
    "    for year in years_ago:\n",
    "    \n",
    "        # Set data to plot\n",
    "        plt.plot(df.date, df[word_to_number(year) + '_jaar_geleden_permill'], label = '%s jaar geleden in %s' %(word_to_number(year), paper))\n",
    "\n",
    "        # Set xticks\n",
    "        ax.set_xticks(range(1890, 1990, 2))\n",
    "        plt.xticks(rotation=45)\n",
    "        \n",
    "        # Set x-axis range\n",
    "        ax.set_xlim([start_year, end_year])\n",
    "\n",
    "# Set labels and legend\n",
    "plt.title(\"Overall frequency of 'year ago' bigrams in Dutch newspapers (sample size per year = 10,000 documents; per million words)\", size=12)\n",
    "plt.xlabel(\"Year\", size=12)\n",
    "plt.ylabel(\"Per million words\", size=12)\n",
    "plt.legend()\n",
    "\n",
    "plt.show()"
   ]
  },
  {
   "cell_type": "markdown",
   "id": "a95769ab",
   "metadata": {},
   "source": [
    "### 3.4 Tracing back ‘n years ago’ to actual years ###\n",
    "The final step of the analysis is to look at the actual years that the phrase ‘n years ago’ referred to throughout the twentieth century. Do newspapers tend to look back at specific years, as in the end of the Second World War being ‘five years ago’ in 1950, ‘ten years ago’ in 1955 and twenty-five years ago in 1970? Or are ‘notable’ years submerged in what is here called ‘everyday memory culture’? This question is answered by calculating the referenced year for every reference of ‘n years ago’ in the newspapers, where n stands for the years from one to twenty and decades from twenty to two hundred, and plotting the results as frequency per year.\n",
    "\n",
    "As the results from the previous step already indicate, [Figure 9](#Figure-9) shows that ‘n years ago’ above all tends to evoke the recent past itself instead of any particular year. Some years that have found their place in the collective memory like 1929 stand out, but so do years that have far less obvious importance in Dutch memory culture like 1972 or 1976. After the Second World War, after all, no single year significantly stands out. This is surprising, because one would have expected the starting and ending years of World War II, if any, to show peaks. From the studied newspaper, this is most true for Het Parool. This daily newspaper has the strongest personal relation to the war, during which it was established as a resistance paper. However, even for this newspaper, 1945 is overshadowed by 1955 and later quinquennials [(Figure 10)](#Figure-10). A disclaimer that has to be made in using this method, explains the decline in the frequency of years after 1975 that [Figure 5](#Figure-5) shows. There is, after all, increasingly less data (that ends in 1989) on which these numbers can be based – there, simply, is too little present available to invoke the most recent past. \n"
   ]
  },
  {
   "cell_type": "markdown",
   "id": "a78d391d",
   "metadata": {},
   "source": [
    "#### Figure 9 #### \n",
    "\n",
    "![Figure 9](jupyter_images/Fig_9.png)"
   ]
  },
  {
   "cell_type": "markdown",
   "id": "53499920",
   "metadata": {},
   "source": [
    "#### Figure 10 #### \n",
    "\n",
    "![Figure 10](jupyter_images/Fig_10.png)"
   ]
  },
  {
   "cell_type": "markdown",
   "id": "0917d5fe",
   "metadata": {},
   "source": [
    "## 4. Conclusion ##\n",
    "How, now, do these results relate to Hartog’s and Assmann’s analyses of changes in the Western time regimes of the twentieth century? The latest shift in time experience that Hartog observes and that he locates around 1990 is that of a strong focus on the future towards one that blindly stares at the present. In the light of that theory, one would have expected a growing decrease of references to the past of future. This study shows the opposite and substantiates Assmann’s contention that interest for the past returns in the second half of the twentieth century in the form of memory culture. With the growing popularity of the studied phrase, Dutch newspapers became mediators of a form of memory culture than can be seen as ‘latent’ or ‘everyday’ in that it emphasizes recurring events rather than returning to a specific thing in the past. It might be true that World War II is the historical object that is most visibly present in the Dutch national memory culture, but it is not the past that newspapers have most prominently evoked on a daily basis.\n",
    "\n",
    "This is the result of editorial boards’ choices. Newspapers throughout the twentieth century did not merely reflect existing mentalities, but had a major role in steering them. Editorial boards have been keenly aware that reports on recurring (inter)national events in sports and politics were guaranteed sellers. For the argument of this paper, however, it is secondary whether genuine historical interest or commercial reasoning were the driving forces behind these evocations of the past. The point is that newspapers have been (and still are) impacting memory culture either way. \n",
    "\n",
    "The opportunity for a data-driven analysis like the above is only possible thanks to the availability of massive quantities of historical public media in digitized form. This enables scholars to complement the study of well-defined case studies of, in this case, memory culture with bottom-up approaches: to discover what newspaper write about when they write about the past in the first place. Now, the use of the phrase ‘n years ago’ is by no means the only, nor the most important manifestation of memory culture. This limits the explanatory power of this study. In contrast with official and cultivated forms of memory culture, however, it does shed light on the latent, almost oblique, everyday invocation of the past that forms just as much part of that culture. As such, this project shows how the past as everyday memory culture has increasingly become an intricate part of newspaper discourse in the Netherlands since the Second World War.\n"
   ]
  },
  {
   "cell_type": "markdown",
   "id": "7301f1a1",
   "metadata": {},
   "source": [
    "## 5. References ##\n",
    "\n",
    "Assmann, A. (2020). Is Time out of Joint? On the Rise and Fall of the Modern Time Regime. Ithaca: Cornell University Press.\n",
    "\n",
    "Au Yeung, C. and Jatowt, A. (2011). Studying how the past is remembered: towards computational history through large scale text mining. In Proceedings of the 20th ACM international conference on Information and knowledge management (CIKM ‘11). New York: Association for Computing Machinery, pp. 1231–1240. https://doi.org/10.1145/2063576.2063755. \n",
    "\n",
    "Bingham, A. (2012). Reading Newspapers: Cultural Histories of the Popular Press in Modern Britain. History Compass vol. 10: 140-150, 10.1111/j.1478-0542.2011.00828.x. \n",
    "\n",
    "Graus, D., Odijk, D. and De Rijke, M. (2018). The Birth of Collective Memories: Analyzing Emerging Entities in Text Streams. Journal of the Association for Information Science and Technology vol. 69: 773-786, http://dx.doi.org/10.1002/asi.24004. \n",
    "\n",
    "Hartog, F. (2015). Regimes of Historicity: Presentism and Experiences of Time. New York: Columbia University Press.\n",
    "\n",
    "Hristova, M. et.al. (2020) Memory worlds: Reframing time and the past. Memory Studies 13, no. 5: 777-791. https://doi.org/10.1177/1750698020944601.\n",
    "\n",
    "Keegan, B.C. and Brubaker, J.R. (2015).  ‘Is’ to ‘Was’: Coordination and Commemoration in Posthumous Activity on Wikipedia Biographies. In Proceedings of the 18th ACM Conference on Computer Supported Cooperative Work & Social Computing (CSCW ‘15). New York: Association for Computing Machinery, pp. 533–546. https://doi.org/10.1145/2675133.2675238. \n",
    "\n",
    "Paul, H. (2015). Key Issues in Historical Theory. New York and London: Routledge.\n",
    "\n",
    "Van Eijnatten, J. and Huijnen, P. (2021). Something Happened to the Future. Reconstructing Temporalities in Dutch Parliamentary Debate, 1814-2018. Contributions to the History of Concepts 16: 52-82. https://doi.org/10.3167/choc.2021.160204.  \n",
    "\n",
    "West, R., Leskovec, J. and Potts, C. (2021). Postmortem memory of public figures in news and social media. PNAS 118, no. 38. https://doi.org/10.1073/pnas.2106152118.\n",
    "\n"
   ]
  },
  {
   "cell_type": "code",
   "execution_count": null,
   "id": "a4398976",
   "metadata": {},
   "outputs": [],
   "source": []
  }
 ],
 "metadata": {
  "kernelspec": {
   "display_name": "Python 3 (ipykernel)",
   "language": "python",
   "name": "python3"
  },
  "language_info": {
   "codemirror_mode": {
    "name": "ipython",
    "version": 3
   },
   "file_extension": ".py",
   "mimetype": "text/x-python",
   "name": "python",
   "nbconvert_exporter": "python",
   "pygments_lexer": "ipython3",
   "version": "3.11.3"
  }
 },
 "nbformat": 4,
 "nbformat_minor": 5
}
